{
 "cells": [
  {
   "cell_type": "markdown",
   "metadata": {},
   "source": [
    "# SAUCIE 1.3M 10x Demonstration"
   ]
  },
  {
   "cell_type": "code",
   "execution_count": 15,
   "metadata": {
    "collapsed": true
   },
   "outputs": [],
   "source": [
    "%matplotlib inline\n",
    "import collections\n",
    "import matplotlib\n",
    "import matplotlib.pyplot as plt\n",
    "import numpy as np\n",
    "import pandas as pd\n",
    "import scipy.sparse as sp_sparse\n",
    "import tables\n",
    "import tensorflow as tf\n",
    "import saucie_utils as utils\n",
    "import scipy\n",
    "import saucie\n",
    "\n",
    "from sklearn.model_selection import train_test_split\n",
    "from sklearn.preprocessing import MinMaxScaler\n",
    "from saucie_utils import DataSet\n",
    "from saucie import Saucie\n",
    "from run import train\n",
    "\n",
    "np.random.seed(utils.RAND_SEED)\n",
    "tf.set_random_seed(utils.RAND_SEED)"
   ]
  },
  {
   "cell_type": "markdown",
   "metadata": {
    "heading_collapsed": true
   },
   "source": [
    "## Loading and Exploration"
   ]
  },
  {
   "cell_type": "code",
   "execution_count": 2,
   "metadata": {
    "collapsed": true,
    "hidden": true
   },
   "outputs": [],
   "source": [
    "GeneBCMatrix = collections.namedtuple('GeneBCMatrix', ['gene_ids', 'gene_names', 'barcodes', 'matrix'])\n",
    "\n",
    "def get_matrix_from_h5(filename, genome):\n",
    "    with tables.open_file(filename, 'r') as f:\n",
    "        try:\n",
    "            dsets = {}\n",
    "            for node in f.walk_nodes('/' + genome, 'Array'):\n",
    "                dsets[node.name] = node.read()\n",
    "            matrix = sp_sparse.csc_matrix((dsets['data'], dsets['indices'], dsets['indptr']), shape=dsets['shape'])\n",
    "            return GeneBCMatrix(dsets['genes'], dsets['gene_names'], dsets['barcodes'], matrix)\n",
    "        except tables.NoSuchNodeError:\n",
    "            raise Exception(\"Genome %s does not exist in this file.\" % genome)\n",
    "        except KeyError:\n",
    "            raise Exception(\"File is missing one or more required datasets.\")\n",
    "\n",
    "def save_matrix_to_h5(gbm, filename, genome):\n",
    "    flt = tables.Filters(complevel=1)\n",
    "    with tables.open_file(filename, 'w', filters=flt) as f:\n",
    "        try:\n",
    "            group = f.create_group(f.root, genome)\n",
    "            f.create_carray(group, 'genes', obj=gbm.gene_ids)\n",
    "            f.create_carray(group, 'gene_names', obj=gbm.gene_names)\n",
    "            f.create_carray(group, 'barcodes', obj=gbm.barcodes)\n",
    "            f.create_carray(group, 'data', obj=gbm.matrix.data)\n",
    "            f.create_carray(group, 'indices', obj=gbm.matrix.indices)\n",
    "            f.create_carray(group, 'indptr', obj=gbm.matrix.indptr)\n",
    "            f.create_carray(group, 'shape', obj=gbm.matrix.shape)\n",
    "        except:\n",
    "            raise Exception(\"Failed to write H5 file.\")\n",
    "        \n",
    "def subsample_matrix(gbm, barcode_indices):\n",
    "    return GeneBCMatrix(gbm.gene_ids, gbm.gene_names, gbm.barcodes[barcode_indices], gbm.matrix[:, barcode_indices])\n",
    "\n",
    "def get_expression(gbm, gene_name):\n",
    "    gene_indices = np.where(gbm.gene_names == gene_name)[0]\n",
    "    if len(gene_indices) == 0:\n",
    "        raise Exception(\"%s was not found in list of gene names.\" % gene_name)\n",
    "    return gbm.matrix[gene_indices[0], :].toarray().squeeze()"
   ]
  },
  {
   "cell_type": "code",
   "execution_count": 3,
   "metadata": {
    "hidden": true
   },
   "outputs": [
    {
     "name": "stdout",
     "output_type": "stream",
     "text": [
      "CPU times: user 1.34 s, sys: 154 ms, total: 1.49 s\n",
      "Wall time: 1.49 s\n"
     ]
    },
    {
     "data": {
      "text/plain": [
       "(27998, 20000)"
      ]
     },
     "execution_count": 3,
     "metadata": {},
     "output_type": "execute_result"
    }
   ],
   "source": [
    "filtered_matrix_h5 = \"/data/krishnan/mouse_data/1M_neurons_neuron20k.h5\"\n",
    "genome = \"mm10\"\n",
    "%time gene_bc_matrix = get_matrix_from_h5(filtered_matrix_h5, genome)\n",
    "gene_bc_matrix.matrix.shape # shape of matrix is genes x cells"
   ]
  },
  {
   "cell_type": "code",
   "execution_count": 4,
   "metadata": {
    "hidden": true
   },
   "outputs": [],
   "source": [
    "centered_x = gene_bc_matrix.matrix.asfptype().transpose()\n",
    "centered_x = centered_x - centered_x.mean(axis=0)\n",
    "u, s, vt = scipy.sparse.linalg.svds(centered_x, 20)\n",
    "pc = u.dot(np.diag(s))"
   ]
  },
  {
   "cell_type": "code",
   "execution_count": 5,
   "metadata": {
    "hidden": true
   },
   "outputs": [
    {
     "data": {
      "text/plain": [
       "(0, 7636, 0.17470196085434508)"
      ]
     },
     "execution_count": 5,
     "metadata": {},
     "output_type": "execute_result"
    }
   ],
   "source": [
    "gene_bc_matrix.matrix.min(), gene_bc_matrix.matrix.max(), gene_bc_matrix.matrix.mean()"
   ]
  },
  {
   "cell_type": "code",
   "execution_count": 6,
   "metadata": {
    "hidden": true
   },
   "outputs": [
    {
     "data": {
      "text/plain": [
       "<matplotlib.text.Text at 0x7fd3d6ac1ba8>"
      ]
     },
     "execution_count": 6,
     "metadata": {},
     "output_type": "execute_result"
    },
    {
     "name": "stderr",
     "output_type": "stream",
     "text": [
      "/usr/lib/python3.6/site-packages/matplotlib/font_manager.py:1297: UserWarning: findfont: Font family ['sans-serif'] not found. Falling back to DejaVu Sans\n",
      "  (prop.get_family(), self.defaultFamily[fontext]))\n"
     ]
    },
    {
     "data": {
      "image/png": "[encoded data removed]",
      "text/plain": [
       "<matplotlib.figure.Figure at 0x7fd3e0517668>"
      ]
     },
     "metadata": {},
     "output_type": "display_data"
    }
   ],
   "source": [
    "f, ac = plt.subplots(figsize=(5,5))\n",
    "plt.scatter(pc[:,0], pc[:,1])\n",
    "plt.xlabel('PC 1')\n",
    "plt.ylabel('PC 2')\n",
    "plt.title('PCA, n={}'.format(pc.shape[0]))"
   ]
  },
  {
   "cell_type": "code",
   "execution_count": 37,
   "metadata": {
    "hidden": true
   },
   "outputs": [],
   "source": [
    "umis_per_cell = np.asarray(gene_bc_matrix.matrix.sum(axis=0)).squeeze()\n",
    "genes_per_cell = np.asarray((gene_bc_matrix.matrix > 0).sum(axis=0)).squeeze()"
   ]
  },
  {
   "cell_type": "code",
   "execution_count": 38,
   "metadata": {
    "hidden": true
   },
   "outputs": [
    {
     "name": "stderr",
     "output_type": "stream",
     "text": [
      "/usr/lib/python3.6/site-packages/matplotlib/font_manager.py:1297: UserWarning: findfont: Font family ['sans-serif'] not found. Falling back to DejaVu Sans\n",
      "  (prop.get_family(), self.defaultFamily[fontext]))\n"
     ]
    },
    {
     "data": {
      "image/png": "[encoded data removed]",
      "text/plain": [
       "<matplotlib.figure.Figure at 0x7f0aca02c898>"
      ]
     },
     "metadata": {},
     "output_type": "display_data"
    }
   ],
   "source": [
    "# plot UMIs per cell\n",
    "plt.hist(np.log10(umis_per_cell), bins=20)\n",
    "plt.xlabel('UMIS per cell (log10)')\n",
    "plt.ylabel('Frequency')\n",
    "plt.title('UMI Distribution')\n",
    "plt.show()"
   ]
  },
  {
   "cell_type": "code",
   "execution_count": 39,
   "metadata": {
    "hidden": true
   },
   "outputs": [
    {
     "name": "stderr",
     "output_type": "stream",
     "text": [
      "/usr/lib/python3.6/site-packages/matplotlib/font_manager.py:1297: UserWarning: findfont: Font family ['sans-serif'] not found. Falling back to DejaVu Sans\n",
      "  (prop.get_family(), self.defaultFamily[fontext]))\n"
     ]
    },
    {
     "data": {
      "image/png": "[encoded data removed]",
      "text/plain": [
       "<matplotlib.figure.Figure at 0x7f0aca02c438>"
      ]
     },
     "metadata": {},
     "output_type": "display_data"
    }
   ],
   "source": [
    "# plot genes per cell\n",
    "plt.hist(genes_per_cell, bins=20)\n",
    "plt.xlabel('Genes per Cell')\n",
    "plt.ylabel('Frequency')\n",
    "plt.title('Gene Distribution')\n",
    "plt.show()"
   ]
  },
  {
   "cell_type": "markdown",
   "metadata": {},
   "source": [
    "## SAUCIE analysis"
   ]
  },
  {
   "cell_type": "code",
   "execution_count": 33,
   "metadata": {},
   "outputs": [
    {
     "name": "stdout",
     "output_type": "stream",
     "text": [
      "('input_dim', 20)\n",
      "('encoder_layers', [1024, 512, 256])\n",
      "('emb_dim', 2)\n",
      "('act_fn', 'relu')\n",
      "('d_act_fn', 'relu')\n",
      "('use_bias', True)\n",
      "('loss_fn', 'bce')\n",
      "('opt_method', 'adam')\n",
      "('lr', 0.001)\n",
      "('batch_norm', True)\n",
      "('id_norm', 'tanh')\n",
      "('sparse_config', SparseLayerConfig(id_lam=[0.0, 0.0, 0.0],l1_lam=[0.0, 0.0, 0.0],l1_w_lam=[0.0, 0.0, 0.0],l2_w_lam=[0.0, 0.0, 0.0],l1_b_lam=[0.0, 0.0, 0.0],l2_b_lam=[0.0, 0.0, 0.0]))\n",
      "('save_path', './saucie_models/mouse')\n"
     ]
    }
   ],
   "source": [
    "config = saucie.default_config()\n",
    "config['act_fn'] = 'relu'\n",
    "config['d_act_fn'] = 'relu'\n",
    "config['input_dim'] = 20\n",
    "config['sparse_config'] = utils.SparseLayerConfig()\n",
    "config['save_path'] = './saucie_models/mouse'\n",
    "print('\\n'.join([str(x) for x in config.items()]))"
   ]
  },
  {
   "cell_type": "code",
   "execution_count": 34,
   "metadata": {},
   "outputs": [
    {
     "name": "stderr",
     "output_type": "stream",
     "text": [
      "/home/krishnan/.local/lib/python3.6/site-packages/sklearn/model_selection/_split.py:2010: FutureWarning: From version 0.21, test_size will always complement train_size unless both are specified.\n",
      "  FutureWarning)\n"
     ]
    }
   ],
   "source": [
    "ms = MinMaxScaler()\n",
    "pc_scaled = ms.fit_transform(pc)\n",
    "train_data, test_data = train_test_split(pc_scaled, train_size=0.9, random_state=utils.RAND_SEED)\n",
    "data_dict = dict(_data=train_data, _test_data=test_data, labeled=False)\n",
    "data = DataSet(**data_dict)"
   ]
  },
  {
   "cell_type": "code",
   "execution_count": 35,
   "metadata": {
    "collapsed": true
   },
   "outputs": [],
   "source": [
    "# TRAINING FLAGS\n",
    "batch_size = 200     # size of batch during training\n",
    "num_epochs = 30      # number of epochs to train\n",
    "patience = 5         # number of epochs to train without improvement, early stopping\n",
    "log_every = 50       # training loss logging frequency\n",
    "save_every = 150     # checkpointing frequency\n",
    "tb_graph = True      # logs graph to TensorBoard if True\n",
    "tb_summs = True      # logs summaries to TensorBoard if True\n",
    "debug = False        # enable tfdebug\n",
    "verbose = False      # will log in debug mode if True\n",
    "gpu_mem = 0.45       # percent of gpu mem to allocate\n",
    "\n",
    "# PLOTTING FLAGS\n",
    "thresh = .5          # threshold to binarize id regularized layers\n",
    "save_plots = False    # saves plots if True\n",
    "\n",
    "steps_per_epoch = data.num_samples // batch_size\n",
    "num_steps = steps_per_epoch * num_epochs"
   ]
  },
  {
   "cell_type": "code",
   "execution_count": 36,
   "metadata": {
    "collapsed": true
   },
   "outputs": [],
   "source": [
    "sess.close()\n",
    "tf.reset_default_graph()"
   ]
  },
  {
   "cell_type": "code",
   "execution_count": 37,
   "metadata": {},
   "outputs": [],
   "source": [
    "if verbose:\n",
    "    tf.logging.set_verbosity(tf.logging.DEBUG)\n",
    "else:\n",
    "    tf.logging.set_verbosity(tf.logging.INFO)\n",
    "if debug:\n",
    "    sess = tf_debug.LocalCLIDebugWrapperSession(sess)\n",
    "    sess.add_tensor_filter('has_inf_or_nan', tf_debug.has_inf_or_nan)\n",
    "\n",
    "model = Saucie(**config)\n",
    "plot_dir = model.save_path + '/plots'\n",
    "gpu_options = tf.GPUOptions(per_process_gpu_memory_fraction=gpu_mem)\n",
    "sess = tf.InteractiveSession(config=tf.ConfigProto(gpu_options=gpu_options))\n",
    "model.build(sess)"
   ]
  },
  {
   "cell_type": "code",
   "execution_count": 38,
   "metadata": {},
   "outputs": [
    {
     "name": "stdout",
     "output_type": "stream",
     "text": [
      "Saving all run data to: ./saucie_models/mouse/17-10-02-runs/2\n",
      "INFO:tensorflow:Total steps: 2700\n",
      "INFO:tensorflow:epoch 0, step 40/2700: loss: 0.538188\n",
      "INFO:tensorflow:epoch 0, step 90/2700: loss: 0.534398\n",
      "INFO:tensorflow:TESTING -- epoch: 1, loss: 0.535836\n",
      "INFO:tensorflow:Best model saved after 1 epochs\n",
      "INFO:tensorflow:epoch 1, step 140/2700: loss: 0.53436\n",
      "INFO:tensorflow:Saving model, after step 150\n",
      "INFO:tensorflow:TESTING -- epoch: 2, loss: 0.535599\n",
      "INFO:tensorflow:Best model saved after 2 epochs\n",
      "INFO:tensorflow:epoch 2, step 190/2700: loss: 0.533472\n",
      "INFO:tensorflow:epoch 2, step 240/2700: loss: 0.533114\n",
      "INFO:tensorflow:TESTING -- epoch: 3, loss: 0.535778\n",
      "INFO:tensorflow:epoch 3, step 290/2700: loss: 0.533699\n",
      "INFO:tensorflow:Saving model, after step 300\n",
      "INFO:tensorflow:epoch 3, step 340/2700: loss: 0.534095\n",
      "INFO:tensorflow:TESTING -- epoch: 4, loss: 0.535547\n",
      "INFO:tensorflow:Best model saved after 4 epochs\n",
      "INFO:tensorflow:epoch 4, step 390/2700: loss: 0.533892\n",
      "INFO:tensorflow:epoch 4, step 440/2700: loss: 0.533164\n",
      "INFO:tensorflow:Saving model, after step 450\n",
      "INFO:tensorflow:TESTING -- epoch: 5, loss: 0.534349\n",
      "INFO:tensorflow:Best model saved after 5 epochs\n",
      "INFO:tensorflow:epoch 5, step 490/2700: loss: 0.533519\n",
      "INFO:tensorflow:epoch 5, step 540/2700: loss: 0.53308\n",
      "INFO:tensorflow:TESTING -- epoch: 6, loss: 0.533936\n",
      "INFO:tensorflow:Best model saved after 6 epochs\n",
      "INFO:tensorflow:epoch 6, step 590/2700: loss: 0.533858\n",
      "INFO:tensorflow:Saving model, after step 600\n",
      "INFO:tensorflow:TESTING -- epoch: 7, loss: 0.533703\n",
      "INFO:tensorflow:Best model saved after 7 epochs\n",
      "INFO:tensorflow:epoch 7, step 640/2700: loss: 0.533225\n",
      "INFO:tensorflow:epoch 7, step 690/2700: loss: 0.533487\n",
      "INFO:tensorflow:TESTING -- epoch: 8, loss: 0.533676\n",
      "INFO:tensorflow:Best model saved after 8 epochs\n",
      "INFO:tensorflow:epoch 8, step 740/2700: loss: 0.533538\n",
      "INFO:tensorflow:Saving model, after step 750\n",
      "INFO:tensorflow:epoch 8, step 790/2700: loss: 0.533086\n",
      "INFO:tensorflow:TESTING -- epoch: 9, loss: 0.533687\n",
      "INFO:tensorflow:epoch 9, step 840/2700: loss: 0.533036\n",
      "INFO:tensorflow:epoch 9, step 890/2700: loss: 0.533731\n",
      "INFO:tensorflow:Saving model, after step 900\n",
      "INFO:tensorflow:TESTING -- epoch: 10, loss: 0.533561\n",
      "INFO:tensorflow:Best model saved after 10 epochs\n",
      "INFO:tensorflow:epoch 10, step 940/2700: loss: 0.533801\n",
      "INFO:tensorflow:epoch 10, step 990/2700: loss: 0.533521\n",
      "INFO:tensorflow:TESTING -- epoch: 11, loss: 0.533529\n",
      "INFO:tensorflow:Best model saved after 11 epochs\n",
      "INFO:tensorflow:epoch 11, step 1040/2700: loss: 0.533932\n",
      "INFO:tensorflow:Saving model, after step 1050\n",
      "INFO:tensorflow:TESTING -- epoch: 12, loss: 0.53346\n",
      "INFO:tensorflow:Best model saved after 12 epochs\n",
      "INFO:tensorflow:epoch 12, step 1090/2700: loss: 0.5336\n",
      "INFO:tensorflow:epoch 12, step 1140/2700: loss: 0.533835\n",
      "INFO:tensorflow:TESTING -- epoch: 13, loss: 0.533412\n",
      "INFO:tensorflow:Best model saved after 13 epochs\n",
      "INFO:tensorflow:epoch 13, step 1190/2700: loss: 0.533978\n",
      "INFO:tensorflow:Saving model, after step 1200\n",
      "INFO:tensorflow:epoch 13, step 1240/2700: loss: 0.533671\n",
      "INFO:tensorflow:TESTING -- epoch: 14, loss: 0.533402\n",
      "INFO:tensorflow:Best model saved after 14 epochs\n",
      "INFO:tensorflow:epoch 14, step 1290/2700: loss: 0.533395\n",
      "INFO:tensorflow:epoch 14, step 1340/2700: loss: 0.533493\n",
      "INFO:tensorflow:Saving model, after step 1350\n",
      "INFO:tensorflow:TESTING -- epoch: 15, loss: 0.533381\n",
      "INFO:tensorflow:Best model saved after 15 epochs\n",
      "INFO:tensorflow:epoch 15, step 1390/2700: loss: 0.53274\n",
      "INFO:tensorflow:epoch 15, step 1440/2700: loss: 0.533482\n",
      "INFO:tensorflow:TESTING -- epoch: 16, loss: 0.533376\n",
      "INFO:tensorflow:Best model saved after 16 epochs\n",
      "INFO:tensorflow:epoch 16, step 1490/2700: loss: 0.534082\n",
      "INFO:tensorflow:Saving model, after step 1500\n",
      "INFO:tensorflow:TESTING -- epoch: 17, loss: 0.533398\n",
      "INFO:tensorflow:epoch 17, step 1540/2700: loss: 0.533084\n",
      "INFO:tensorflow:epoch 17, step 1590/2700: loss: 0.5331\n",
      "INFO:tensorflow:TESTING -- epoch: 18, loss: 0.533353\n",
      "INFO:tensorflow:Best model saved after 18 epochs\n",
      "INFO:tensorflow:epoch 18, step 1640/2700: loss: 0.5327\n",
      "INFO:tensorflow:Saving model, after step 1650\n",
      "INFO:tensorflow:epoch 18, step 1690/2700: loss: 0.533907\n",
      "INFO:tensorflow:TESTING -- epoch: 19, loss: 0.533288\n",
      "INFO:tensorflow:Best model saved after 19 epochs\n",
      "INFO:tensorflow:epoch 19, step 1740/2700: loss: 0.532583\n",
      "INFO:tensorflow:epoch 19, step 1790/2700: loss: 0.533557\n",
      "INFO:tensorflow:Saving model, after step 1800\n",
      "INFO:tensorflow:TESTING -- epoch: 20, loss: 0.533299\n",
      "INFO:tensorflow:epoch 20, step 1840/2700: loss: 0.533788\n",
      "INFO:tensorflow:epoch 20, step 1890/2700: loss: 0.533252\n",
      "INFO:tensorflow:TESTING -- epoch: 21, loss: 0.533298\n",
      "INFO:tensorflow:epoch 21, step 1940/2700: loss: 0.532939\n",
      "INFO:tensorflow:Saving model, after step 1950\n",
      "INFO:tensorflow:TESTING -- epoch: 22, loss: 0.533286\n",
      "INFO:tensorflow:Best model saved after 22 epochs\n",
      "INFO:tensorflow:epoch 22, step 1990/2700: loss: 0.532502\n",
      "INFO:tensorflow:epoch 22, step 2040/2700: loss: 0.532666\n",
      "INFO:tensorflow:TESTING -- epoch: 23, loss: 0.533307\n",
      "INFO:tensorflow:epoch 23, step 2090/2700: loss: 0.533752\n",
      "INFO:tensorflow:Saving model, after step 2100\n",
      "INFO:tensorflow:epoch 23, step 2140/2700: loss: 0.53288\n",
      "INFO:tensorflow:TESTING -- epoch: 24, loss: 0.533317\n",
      "INFO:tensorflow:epoch 24, step 2190/2700: loss: 0.532881\n",
      "INFO:tensorflow:epoch 24, step 2240/2700: loss: 0.532677\n",
      "INFO:tensorflow:Saving model, after step 2250\n",
      "INFO:tensorflow:TESTING -- epoch: 25, loss: 0.533352\n",
      "INFO:tensorflow:epoch 25, step 2290/2700: loss: 0.533259\n",
      "INFO:tensorflow:epoch 25, step 2340/2700: loss: 0.533942\n",
      "INFO:tensorflow:TESTING -- epoch: 26, loss: 0.533233\n",
      "INFO:tensorflow:Best model saved after 26 epochs\n",
      "INFO:tensorflow:epoch 26, step 2390/2700: loss: 0.533042\n",
      "INFO:tensorflow:Saving model, after step 2400\n",
      "INFO:tensorflow:TESTING -- epoch: 27, loss: 0.533253\n",
      "INFO:tensorflow:epoch 27, step 2440/2700: loss: 0.532528\n",
      "INFO:tensorflow:epoch 27, step 2490/2700: loss: 0.533726\n",
      "INFO:tensorflow:TESTING -- epoch: 28, loss: 0.533292\n",
      "INFO:tensorflow:epoch 28, step 2540/2700: loss: 0.533127\n",
      "INFO:tensorflow:Saving model, after step 2550\n",
      "INFO:tensorflow:epoch 28, step 2590/2700: loss: 0.533687\n",
      "INFO:tensorflow:TESTING -- epoch: 29, loss: 0.533238\n",
      "INFO:tensorflow:epoch 29, step 2640/2700: loss: 0.533317\n",
      "INFO:tensorflow:epoch 29, step 2690/2700: loss: 0.532874\n",
      "INFO:tensorflow:Saving model, after step 2700\n",
      "INFO:tensorflow:Trained for 29 epochs, 2700 steps\n",
      "Saved all run data to: ./saucie_models/mouse/17-10-02-runs/2\n"
     ]
    },
    {
     "data": {
      "text/plain": [
       "OrderedDict([('loss', 0.53323829)])"
      ]
     },
     "execution_count": 38,
     "metadata": {},
     "output_type": "execute_result"
    }
   ],
   "source": [
    "train(model, sess, data, batch_size, num_steps, thresh, patience, log_every, save_every, save_plots)"
   ]
  },
  {
   "cell_type": "code",
   "execution_count": 39,
   "metadata": {},
   "outputs": [
    {
     "data": {
      "text/plain": [
       "<matplotlib.collections.PathCollection at 0x7fd3cc5dea20>"
      ]
     },
     "execution_count": 39,
     "metadata": {},
     "output_type": "execute_result"
    },
    {
     "name": "stderr",
     "output_type": "stream",
     "text": [
      "/usr/lib/python3.6/site-packages/matplotlib/font_manager.py:1297: UserWarning: findfont: Font family ['sans-serif'] not found. Falling back to DejaVu Sans\n",
      "  (prop.get_family(), self.defaultFamily[fontext]))\n"
     ]
    },
    {
     "data": {
      "image/png": "[encoded data removed]",
      "text/plain": [
       "<matplotlib.figure.Figure at 0x7fd3d07254a8>"
      ]
     },
     "metadata": {},
     "output_type": "display_data"
    }
   ],
   "source": [
    "test_emb = sess.run(model.encoder, feed_dict={model.x_: data.test_data, model.is_training_: False})\n",
    "f, ax = plt.subplots(figsize=)\n",
    "plt.scatter(test_emb[:,0], test_emb[:,1])\n",
    "plt.title('Bottleneck embedding with ReLU activation')"
   ]
  }
 ],
 "metadata": {
  "kernelspec": {
   "display_name": "Python 3",
   "language": "python",
   "name": "python3"
  },
  "language_info": {
   "codemirror_mode": {
    "name": "ipython",
    "version": 3
   },
   "file_extension": ".py",
   "mimetype": "text/x-python",
   "name": "python",
   "nbconvert_exporter": "python",
   "pygments_lexer": "ipython3",
   "version": "3.6.2"
  },
  "toc": {
   "colors": {
    "hover_highlight": "#DAA520",
    "navigate_num": "#000000",
    "navigate_text": "#333333",
    "running_highlight": "#FF0000",
    "selected_highlight": "#FFD700",
    "sidebar_border": "#EEEEEE",
    "wrapper_background": "#FFFFFF"
   },
   "moveMenuLeft": true,
   "navigate_menu": false,
   "number_sections": false,
   "sideBar": true,
   "threshold": 4,
   "toc_cell": false,
   "toc_section_display": "block",
   "toc_window_display": true,
   "widenNotebook": false
  }
 },
 "nbformat": 4,
 "nbformat_minor": 2
}
