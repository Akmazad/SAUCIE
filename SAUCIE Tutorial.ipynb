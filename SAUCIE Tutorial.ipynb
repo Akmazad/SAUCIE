{
 "cells": [
  {
   "cell_type": "markdown",
   "metadata": {},
   "source": [
    "# SAUCIE\n",
    "*Sparse Autoencoders for Unsupervised Clustering, Imputation, and Embedding*"
   ]
  },
  {
   "cell_type": "code",
   "execution_count": 1,
   "metadata": {},
   "outputs": [],
   "source": [
    "%matplotlib inline\n",
    "\n",
    "import glob\n",
    "import numpy as np\n",
    "import os\n",
    "import plotting\n",
    "import tensorflow as tf\n",
    "import matplotlib.pyplot as plt\n",
    "import saucie\n",
    "import saucie_utils as utils\n",
    "\n",
    "from collections import OrderedDict\n",
    "from saucie import Saucie\n",
    "from tensorflow.python import debug as tf_debug\n",
    "\n",
    "from saucie_utils import DataSet\n",
    "from tensorflow.examples.tutorials.mnist import input_data"
   ]
  },
  {
   "cell_type": "markdown",
   "metadata": {},
   "source": [
    "## Model Config"
   ]
  },
  {
   "cell_type": "code",
   "execution_count": 2,
   "metadata": {},
   "outputs": [
    {
     "name": "stdout",
     "output_type": "stream",
     "text": [
      "Extracting MNIST_data/train-images-idx3-ubyte.gz\n",
      "Extracting MNIST_data/train-labels-idx1-ubyte.gz\n",
      "Extracting MNIST_data/t10k-images-idx3-ubyte.gz\n",
      "Extracting MNIST_data/t10k-labels-idx1-ubyte.gz\n",
      "('input_dim', 784)\n",
      "('encoder_layers', [1024, 512, 256])\n",
      "('emb_dim', 2)\n",
      "('act_fn', 'tanh')\n",
      "('d_act_fn', 'tanh')\n",
      "('use_bias', True)\n",
      "('loss_fn', 'bce')\n",
      "('opt_method', 'adam')\n",
      "('lr', 0.001)\n",
      "('batch_norm', True)\n",
      "('sparse_config', SparseLayerConfig(id_lam=[100.0, 0.0, 0.0],l1_lam=[0.0, 0.0, 0.0]))\n",
      "('save_path', './saucie_models/mnist')\n"
     ]
    }
   ],
   "source": [
    "data_path = '/home/ubuntu/SAUCIE/mnist_data.npz'\n",
    "dataset = 'mnist'\n",
    "#data = utils.load_dataset(dataset, data_path)\n",
    "mnist = input_data.read_data_sets('MNIST_data', one_hot=True)\n",
    "\n",
    "data_dict = dict(_data=mnist.train.images, _labels=mnist.train.labels, _test_data=mnist.test.images, _test_labels=mnist.test.labels)\n",
    "data = DataSet(labeled=True, **data_dict)\n",
    "\n",
    "config = saucie.default_config(dataset)\n",
    "print('\\n'.join([str(x) for x in config.items()]))\n",
    "\n",
    "model = Saucie(**config)"
   ]
  },
  {
   "cell_type": "markdown",
   "metadata": {
    "heading_collapsed": true
   },
   "source": [
    "## Training Config"
   ]
  },
  {
   "cell_type": "code",
   "execution_count": 3,
   "metadata": {
    "hidden": true
   },
   "outputs": [],
   "source": [
    "# TRAINING FLAGS\n",
    "batch_size = 100     # size of batch during training\n",
    "num_epochs = 20      # number of epochs to train\n",
    "patience = 5         # number of epochs to train without improvement, early stopping\n",
    "log_every = 100      # training loss logging frequency\n",
    "save_every = 200     # checkpointing frequency\n",
    "tb_graph = True      # logs graph to TensorBoard if True\n",
    "tb_summs = True      # logs summaries to TensorBoard if True\n",
    "debug = False        # enable tfdebug\n",
    "verbose = False      # will log in debug mode if True\n",
    "gpu_mem = 0.45       # percent of gpu mem to allocate\n",
    "\n",
    "# PLOTTING FLAGS\n",
    "thresh = .5          # threshold to binarize id regularized layers\n",
    "save_plots = False    # saves plots if True\n",
    "\n",
    "plot_dir = model.save_path + '/plots'"
   ]
  },
  {
   "cell_type": "markdown",
   "metadata": {
    "heading_collapsed": true
   },
   "source": [
    "## Training Methods\n",
    "Edit this to change what is saved, printed, trained, etc."
   ]
  },
  {
   "cell_type": "code",
   "execution_count": 4,
   "metadata": {
    "hidden": true
   },
   "outputs": [],
   "source": [
    "def train(model, sess, data, batch_size, num_steps, thresh=0.5, patience=None,\n",
    "          log_freq=100, ckpt_freq=100, save_plots=True):\n",
    "    \"\"\"\n",
    "    Args:\n",
    "        model: Saucie instance to train\n",
    "        sess: tf.Session object to run all ops with\n",
    "        data: utils.DataSet object to load batches and test data from\n",
    "        batch_size: size of batches to train with\n",
    "        num_steps: number of optimizer iteration steps\n",
    "        thresh: threshold for binarization\n",
    "        patience: number of epochs of training allowed without improvement\n",
    "        log_freq: number of steps before printing training loss\n",
    "        ckpt_freq: number of steps before checkpointing model\n",
    "        save_plots: boolean determining whether or not to save plots\n",
    "    \"\"\"\n",
    "    model.epochs_trained = data.epochs_trained = model.current_epoch_.eval(sess)\n",
    "    graph = sess.graph\n",
    "    loss_tensors = model.loss_tensors_dict(graph)\n",
    "    train_ops = dict(losses=loss_tensors, opt=model.optimize)\n",
    "    test_ops = dict(losses=loss_tensors)\n",
    "    test_feed_dict = {model.x_: data.test_data, model.is_training_: False}\n",
    "    train_feed_dict = {model.x_: data.data, model.is_training_: False}\n",
    "    best_test_losses = None\n",
    "    epochs_since_improved = 0\n",
    "    current_step = model.global_step_.eval(sess)\n",
    "    id_lam = model._model_config['sparse_config'].id_lam\n",
    "    l1_lam = model._model_config['sparse_config'].l1_lam\n",
    "    cluster_layers = id_lam.nonzero()[0].tolist()\n",
    "\n",
    "    print('Saving all run data to: {}'.format(model.save_path))\n",
    "\n",
    "    if tb_graph or tb_summs: \n",
    "        train_writer = tf.summary.FileWriter(model.save_path + '/logs/train', graph=graph)\n",
    "        test_writer = tf.summary.FileWriter(model.save_path + '/logs/test', graph=graph)\n",
    "        tf.logging.debug('Saving graph to TensorBoard in {}/logs'.format(model.save_path))\n",
    "\n",
    "    if tb_summs:\n",
    "        loss_summs = [tf.summary.scalar(name, loss) for name, loss in loss_tensors.items() if type(loss) != list]\n",
    "        loss_summs = tf.summary.merge(loss_summs)\n",
    "        train_ops['loss_summs'] = loss_summs\n",
    "        test_ops['loss_summs'] = loss_summs\n",
    "        tf.logging.debug('Saving loss summaries to TensorBoard in {}/logs'.format(model.save_path))\n",
    "\n",
    "    if save_plots:\n",
    "        plot_folder = model.save_path + '/plots'\n",
    "        if not os.path.exists(plot_folder):\n",
    "            os.makedirs(plot_folder)\n",
    "        plot_ops = OrderedDict(emb=model.encoder)\n",
    "        plot_ops['cluster_acts'] = tf.get_collection('id_normalized_activations')\n",
    "\n",
    "    for step in range(current_step + 1, num_steps + 1):\n",
    "        batch = data.next_batch(batch_size)\n",
    "        if data.labeled:\n",
    "            batch, labels = batch\n",
    "        feed_dict = {model.x_: batch, model.is_training_: True}\n",
    "        train_dict = sess.run(train_ops, feed_dict=feed_dict)\n",
    "        train_losses = train_dict['losses']\n",
    "        if 'loss_summs' in train_dict:\n",
    "            summ = train_dict['loss_summs']\n",
    "            train_writer.add_summary(summ, step)\n",
    "        log_str = ('epoch/step: {}/{}, '.format(model.epochs_trained, step)\n",
    "                   + utils.make_dict_str(train_losses))\n",
    "        tf.logging.log_every_n(tf.logging.INFO, log_str, log_freq)\n",
    "\n",
    "        if ckpt_freq and (step % ckpt_freq) == 0:\n",
    "            tf.logging.info('Saving model, after step {}'.format(step))\n",
    "            model.save_model(sess, 'model', step=step)\n",
    "            if save_plots:\n",
    "                tf.logging.debug('Plotting middle layer embedding')\n",
    "                plot_dict = sess.run(plot_ops, feed_dict=feed_dict)\n",
    "                make_plots(cluster_layers, id_lam, l1_lam, plot_folder, plot_dict, data, 'cluster_layer-{}.png')\n",
    "\n",
    "        if model.epochs_trained != data.epochs_trained:\n",
    "            model.epochs_trained = sess.run(tf.assign(model.current_epoch_, data.epochs_trained))\n",
    "            test_dict = sess.run(test_ops, feed_dict=test_feed_dict)\n",
    "            test_losses = test_dict['losses']\n",
    "            if 'loss_summs' in test_dict:\n",
    "                summ = test_dict['loss_summs']\n",
    "                test_writer.add_summary(summ, step)\n",
    "            log_str = ('TESTING -- epoch: {}, '.format(model.epochs_trained)\n",
    "                       + utils.make_dict_str(test_losses))\n",
    "            tf.logging.info(log_str)\n",
    "            if best_test_losses is None or best_test_losses['loss'] > test_losses['loss']:\n",
    "                model.saver.save(sess, model.save_path + '/best.model')\n",
    "                tf.logging.info('Best model saved after {} epochs'.format(model.epochs_trained))\n",
    "                best_test_losses = test_losses\n",
    "                epochs_since_improved = 0\n",
    "                if save_plots:\n",
    "                    tf.logging.debug('Plotting best middle layer embedding')\n",
    "                    plot_dict = sess.run(plot_ops, feed_dict=test_feed_dict)\n",
    "                    make_plots(cluster_layers, id_lam, l1_lam, plot_folder, plot_dict, data, 'best-cluster_layer-{}.png')\n",
    "            else:\n",
    "                epochs_since_improved += 1\n",
    "            if patience and epochs_since_improved == patience:\n",
    "                tf.logging.info('Early stopping, test loss did not improve for {} epochs.'.format(epochs_since_improved))\n",
    "                tf.logging.info('Best test loss: epoch {}: '.format(model.epochs_trained - epochs_since_improved)\n",
    "                                + utils.make_dict_str(best_test_losses))\n",
    "                break\n",
    "\n",
    "    tf.logging.info('Trained for {} epochs'.format(model.epochs_trained))\n",
    "\n",
    "    print('Saved all run data to: {}'.format(model.save_path))\n",
    "    return test_losses\n",
    "\n",
    "\n",
    "def make_plots(cluster_layers, id_lam, l1_lam, plot_folder, plot_dict, data, title_fmt='clust_layer-{}.png'):\n",
    "    for i, acts in enumerate(plot_dict['cluster_acts']):\n",
    "        hl_idx = cluster_layers[i]\n",
    "        save_file = plot_folder + '/emb-' + title_fmt.format(hl_idx)\n",
    "        title = 'Embedding, clustered layer-{}, id_lam/l1_lam={:5.4E}/{:5.4E}'.format(hl_idx, id_lam[hl_idx], l1_lam[hl_idx])\n",
    "        clusts = utils.binarize(acts, thresh)\n",
    "        tf.logging.debug('Top 5 activated neurons: {}'.format(acts.max(axis=1)[:5]))\n",
    "        tf.logging.debug('Mean max activation: {}'.format(acts.max(axis=1).mean()))\n",
    "        tf.logging.debug('Bottom 5 max activated neurons: {}'.format(acts.max(axis=1)[-5:]))\n",
    "        plotting.plot_embedding2D(plot_dict['emb'], clusts, save_file, title)\n",
    "        if '_colnames' in data.__dict__:\n",
    "            save_file = plot_folder + '/heatmap-' + title_fmt.format(hl_idx)\n",
    "            plotting.plot_cluster_heatmap(data.test_data, clusts, data._colnames, data._markers, save_file)\n",
    "    if cluster_layers == []:\n",
    "        plotting.plot_embedding2D(plot_dict['emb'], np.zeros(len(plot_dict['emb'])), plot_folder + '/emb.png','Embedding, no clusters')"
   ]
  },
  {
   "cell_type": "code",
   "execution_count": null,
   "metadata": {},
   "outputs": [],
   "source": [
    "sess.close()\n",
    "tf.reset_default_graph()"
   ]
  },
  {
   "cell_type": "markdown",
   "metadata": {
    "heading_collapsed": true
   },
   "source": [
    "## Run Training"
   ]
  },
  {
   "cell_type": "code",
   "execution_count": 5,
   "metadata": {
    "hidden": true
   },
   "outputs": [
    {
     "name": "stdout",
     "output_type": "stream",
     "text": [
      "Saving all run data to: ./saucie_models/mnist/17-09-25-runs/0\n",
      "INFO:tensorflow:epoch/step: 0/1, loss: 67824.1, recons_loss: 0.791256, id_loss: 67823.3\n",
      "INFO:tensorflow:epoch/step: 0/101, loss: 3952.98, recons_loss: 0.239416, id_loss: 3952.74\n",
      "INFO:tensorflow:Saving model, after step 200\n",
      "INFO:tensorflow:epoch/step: 0/201, loss: 2039.2, recons_loss: 0.217255, id_loss: 2038.98\n",
      "INFO:tensorflow:epoch/step: 0/301, loss: 1385.8, recons_loss: 0.196826, id_loss: 1385.6\n",
      "INFO:tensorflow:Saving model, after step 400\n",
      "INFO:tensorflow:epoch/step: 0/401, loss: 1769.07, recons_loss: 0.20934, id_loss: 1768.86\n",
      "INFO:tensorflow:epoch/step: 0/501, loss: 1314.5, recons_loss: 0.194153, id_loss: 1314.31\n",
      "INFO:tensorflow:TESTING -- epoch: 1, loss: 461253.0, recons_loss: 0.284337, id_loss: 461252.0\n",
      "INFO:tensorflow:Best model saved after 1 epochs\n",
      "INFO:tensorflow:Saving model, after step 600\n",
      "INFO:tensorflow:epoch/step: 1/601, loss: 1449.28, recons_loss: 0.187902, id_loss: 1449.09\n",
      "INFO:tensorflow:epoch/step: 1/701, loss: 1160.45, recons_loss: 0.18671, id_loss: 1160.26\n",
      "INFO:tensorflow:Saving model, after step 800\n",
      "INFO:tensorflow:epoch/step: 1/801, loss: 1237.07, recons_loss: 0.187761, id_loss: 1236.89\n",
      "INFO:tensorflow:epoch/step: 1/901, loss: 1153.39, recons_loss: 0.196605, id_loss: 1153.19\n",
      "INFO:tensorflow:Saving model, after step 1000\n",
      "INFO:tensorflow:epoch/step: 1/1001, loss: 977.707, recons_loss: 0.202535, id_loss: 977.505\n",
      "INFO:tensorflow:epoch/step: 1/1101, loss: 595.454, recons_loss: 0.184238, id_loss: 595.27\n",
      "INFO:tensorflow:TESTING -- epoch: 2, loss: 274994.0, recons_loss: 0.297651, id_loss: 274993.0\n",
      "INFO:tensorflow:Best model saved after 2 epochs\n",
      "INFO:tensorflow:Saving model, after step 1200\n",
      "INFO:tensorflow:epoch/step: 2/1201, loss: 641.891, recons_loss: 0.18135, id_loss: 641.709\n",
      "INFO:tensorflow:epoch/step: 2/1301, loss: 764.867, recons_loss: 0.189338, id_loss: 764.678\n",
      "INFO:tensorflow:Saving model, after step 1400\n",
      "INFO:tensorflow:epoch/step: 2/1401, loss: 779.697, recons_loss: 0.179474, id_loss: 779.518\n",
      "INFO:tensorflow:epoch/step: 2/1501, loss: 745.031, recons_loss: 0.190836, id_loss: 744.84\n",
      "INFO:tensorflow:Saving model, after step 1600\n",
      "INFO:tensorflow:epoch/step: 2/1601, loss: 624.785, recons_loss: 0.188321, id_loss: 624.596\n",
      "INFO:tensorflow:TESTING -- epoch: 3, loss: 237261.0, recons_loss: 0.309806, id_loss: 237261.0\n",
      "INFO:tensorflow:Best model saved after 3 epochs\n",
      "INFO:tensorflow:epoch/step: 3/1701, loss: 386.254, recons_loss: 0.183279, id_loss: 386.071\n",
      "INFO:tensorflow:Saving model, after step 1800\n",
      "INFO:tensorflow:epoch/step: 3/1801, loss: 797.988, recons_loss: 0.191112, id_loss: 797.797\n",
      "INFO:tensorflow:epoch/step: 3/1901, loss: 684.104, recons_loss: 0.194375, id_loss: 683.909\n",
      "INFO:tensorflow:Saving model, after step 2000\n",
      "INFO:tensorflow:epoch/step: 3/2001, loss: 468.029, recons_loss: 0.180503, id_loss: 467.849\n",
      "INFO:tensorflow:epoch/step: 3/2101, loss: 369.239, recons_loss: 0.181392, id_loss: 369.058\n",
      "INFO:tensorflow:Saving model, after step 2200\n",
      "INFO:tensorflow:epoch/step: 3/2201, loss: 445.286, recons_loss: 0.178722, id_loss: 445.107\n",
      "INFO:tensorflow:TESTING -- epoch: 4, loss: 208929.0, recons_loss: 0.318301, id_loss: 208929.0\n",
      "INFO:tensorflow:Best model saved after 4 epochs\n",
      "INFO:tensorflow:epoch/step: 4/2301, loss: 389.341, recons_loss: 0.199961, id_loss: 389.142\n",
      "INFO:tensorflow:Saving model, after step 2400\n",
      "INFO:tensorflow:epoch/step: 4/2401, loss: 590.192, recons_loss: 0.187813, id_loss: 590.005\n",
      "INFO:tensorflow:epoch/step: 4/2501, loss: 732.69, recons_loss: 0.187151, id_loss: 732.502\n",
      "INFO:tensorflow:Saving model, after step 2600\n",
      "INFO:tensorflow:epoch/step: 4/2601, loss: 422.068, recons_loss: 0.181557, id_loss: 421.886\n",
      "INFO:tensorflow:epoch/step: 4/2701, loss: 412.34, recons_loss: 0.188125, id_loss: 412.152\n",
      "INFO:tensorflow:TESTING -- epoch: 5, loss: 180086.0, recons_loss: 0.330764, id_loss: 180086.0\n",
      "INFO:tensorflow:Best model saved after 5 epochs\n",
      "INFO:tensorflow:Saving model, after step 2800\n",
      "INFO:tensorflow:epoch/step: 5/2801, loss: 602.368, recons_loss: 0.188595, id_loss: 602.179\n",
      "INFO:tensorflow:epoch/step: 5/2901, loss: 487.94, recons_loss: 0.200214, id_loss: 487.74\n",
      "INFO:tensorflow:Saving model, after step 3000\n",
      "INFO:tensorflow:epoch/step: 5/3001, loss: 520.987, recons_loss: 0.176279, id_loss: 520.81\n",
      "INFO:tensorflow:epoch/step: 5/3101, loss: 443.757, recons_loss: 0.171599, id_loss: 443.585\n",
      "INFO:tensorflow:Saving model, after step 3200\n",
      "INFO:tensorflow:epoch/step: 5/3201, loss: 328.614, recons_loss: 0.174802, id_loss: 328.439\n",
      "INFO:tensorflow:epoch/step: 5/3301, loss: 506.173, recons_loss: 0.178164, id_loss: 505.995\n",
      "INFO:tensorflow:TESTING -- epoch: 6, loss: 158542.0, recons_loss: 0.334722, id_loss: 158542.0\n",
      "INFO:tensorflow:Best model saved after 6 epochs\n",
      "INFO:tensorflow:Saving model, after step 3400\n",
      "INFO:tensorflow:epoch/step: 6/3401, loss: 304.479, recons_loss: 0.173188, id_loss: 304.306\n",
      "INFO:tensorflow:epoch/step: 6/3501, loss: 269.791, recons_loss: 0.192674, id_loss: 269.598\n",
      "INFO:tensorflow:Saving model, after step 3600\n",
      "INFO:tensorflow:epoch/step: 6/3601, loss: 400.7, recons_loss: 0.199292, id_loss: 400.501\n",
      "INFO:tensorflow:epoch/step: 6/3701, loss: 411.878, recons_loss: 0.181542, id_loss: 411.696\n",
      "INFO:tensorflow:Saving model, after step 3800\n",
      "INFO:tensorflow:epoch/step: 6/3801, loss: 676.568, recons_loss: 0.182024, id_loss: 676.386\n",
      "INFO:tensorflow:TESTING -- epoch: 7, loss: 146245.0, recons_loss: 0.323548, id_loss: 146244.0\n",
      "INFO:tensorflow:Best model saved after 7 epochs\n",
      "INFO:tensorflow:epoch/step: 7/3901, loss: 214.374, recons_loss: 0.187969, id_loss: 214.186\n",
      "INFO:tensorflow:Saving model, after step 4000\n",
      "INFO:tensorflow:epoch/step: 7/4001, loss: 385.503, recons_loss: 0.184099, id_loss: 385.318\n",
      "INFO:tensorflow:epoch/step: 7/4101, loss: 297.196, recons_loss: 0.180965, id_loss: 297.015\n",
      "INFO:tensorflow:Saving model, after step 4200\n",
      "INFO:tensorflow:epoch/step: 7/4201, loss: 273.326, recons_loss: 0.178488, id_loss: 273.148\n",
      "INFO:tensorflow:epoch/step: 7/4301, loss: 498.252, recons_loss: 0.193811, id_loss: 498.058\n",
      "INFO:tensorflow:Saving model, after step 4400\n",
      "INFO:tensorflow:epoch/step: 7/4401, loss: 202.16, recons_loss: 0.177115, id_loss: 201.983\n",
      "INFO:tensorflow:TESTING -- epoch: 8, loss: 152771.0, recons_loss: 0.335175, id_loss: 152771.0\n",
      "INFO:tensorflow:epoch/step: 8/4501, loss: 240.007, recons_loss: 0.194878, id_loss: 239.812\n",
      "INFO:tensorflow:Saving model, after step 4600\n",
      "INFO:tensorflow:epoch/step: 8/4601, loss: 319.274, recons_loss: 0.17786, id_loss: 319.096\n",
      "INFO:tensorflow:epoch/step: 8/4701, loss: 77.2592, recons_loss: 0.173958, id_loss: 77.0853\n",
      "INFO:tensorflow:Saving model, after step 4800\n",
      "INFO:tensorflow:epoch/step: 8/4801, loss: 536.98, recons_loss: 0.17035, id_loss: 536.809\n",
      "INFO:tensorflow:epoch/step: 8/4901, loss: 352.637, recons_loss: 0.188521, id_loss: 352.449\n",
      "INFO:tensorflow:TESTING -- epoch: 9, loss: 144907.0, recons_loss: 0.345367, id_loss: 144906.0\n",
      "INFO:tensorflow:Best model saved after 9 epochs\n",
      "INFO:tensorflow:Saving model, after step 5000\n",
      "INFO:tensorflow:epoch/step: 9/5001, loss: 358.191, recons_loss: 0.179668, id_loss: 358.011\n",
      "INFO:tensorflow:epoch/step: 9/5101, loss: 294.125, recons_loss: 0.186974, id_loss: 293.938\n",
      "INFO:tensorflow:Saving model, after step 5200\n",
      "INFO:tensorflow:epoch/step: 9/5201, loss: 349.111, recons_loss: 0.193941, id_loss: 348.917\n",
      "INFO:tensorflow:epoch/step: 9/5301, loss: 155.117, recons_loss: 0.177651, id_loss: 154.94\n",
      "INFO:tensorflow:Saving model, after step 5400\n",
      "INFO:tensorflow:epoch/step: 9/5401, loss: 319.281, recons_loss: 0.174708, id_loss: 319.106\n",
      "INFO:tensorflow:epoch/step: 9/5501, loss: 162.684, recons_loss: 0.185861, id_loss: 162.498\n",
      "INFO:tensorflow:TESTING -- epoch: 10, loss: 140603.0, recons_loss: 0.344156, id_loss: 140603.0\n",
      "INFO:tensorflow:Best model saved after 10 epochs\n",
      "INFO:tensorflow:Saving model, after step 5600\n",
      "INFO:tensorflow:epoch/step: 10/5601, loss: 352.519, recons_loss: 0.182865, id_loss: 352.336\n",
      "INFO:tensorflow:epoch/step: 10/5701, loss: 299.449, recons_loss: 0.179529, id_loss: 299.27\n",
      "INFO:tensorflow:Saving model, after step 5800\n",
      "INFO:tensorflow:epoch/step: 10/5801, loss: 467.573, recons_loss: 0.181454, id_loss: 467.391\n",
      "INFO:tensorflow:epoch/step: 10/5901, loss: 179.154, recons_loss: 0.172421, id_loss: 178.981\n"
     ]
    },
    {
     "name": "stdout",
     "output_type": "stream",
     "text": [
      "INFO:tensorflow:Saving model, after step 6000\n",
      "INFO:tensorflow:epoch/step: 10/6001, loss: 224.136, recons_loss: 0.179036, id_loss: 223.957\n",
      "INFO:tensorflow:TESTING -- epoch: 11, loss: 145099.0, recons_loss: 0.348029, id_loss: 145098.0\n",
      "INFO:tensorflow:epoch/step: 11/6101, loss: 257.085, recons_loss: 0.176898, id_loss: 256.908\n",
      "INFO:tensorflow:Saving model, after step 6200\n",
      "INFO:tensorflow:epoch/step: 11/6201, loss: 280.093, recons_loss: 0.183258, id_loss: 279.91\n",
      "INFO:tensorflow:epoch/step: 11/6301, loss: 414.6, recons_loss: 0.173738, id_loss: 414.427\n",
      "INFO:tensorflow:Saving model, after step 6400\n",
      "INFO:tensorflow:epoch/step: 11/6401, loss: 525.037, recons_loss: 0.178559, id_loss: 524.859\n",
      "INFO:tensorflow:epoch/step: 11/6501, loss: 269.203, recons_loss: 0.180242, id_loss: 269.023\n",
      "INFO:tensorflow:Saving model, after step 6600\n",
      "INFO:tensorflow:epoch/step: 11/6601, loss: 195.014, recons_loss: 0.171401, id_loss: 194.842\n",
      "INFO:tensorflow:TESTING -- epoch: 12, loss: 123251.0, recons_loss: 0.368053, id_loss: 123251.0\n",
      "INFO:tensorflow:Best model saved after 12 epochs\n",
      "INFO:tensorflow:epoch/step: 12/6701, loss: 164.473, recons_loss: 0.167789, id_loss: 164.306\n",
      "INFO:tensorflow:Saving model, after step 6800\n",
      "INFO:tensorflow:epoch/step: 12/6801, loss: 256.173, recons_loss: 0.181827, id_loss: 255.991\n",
      "INFO:tensorflow:epoch/step: 12/6901, loss: 214.34, recons_loss: 0.17813, id_loss: 214.161\n",
      "INFO:tensorflow:Saving model, after step 7000\n",
      "INFO:tensorflow:epoch/step: 12/7001, loss: 113.413, recons_loss: 0.173872, id_loss: 113.239\n",
      "INFO:tensorflow:epoch/step: 12/7101, loss: 207.642, recons_loss: 0.176795, id_loss: 207.465\n",
      "INFO:tensorflow:TESTING -- epoch: 13, loss: 130027.0, recons_loss: 0.365967, id_loss: 130027.0\n",
      "INFO:tensorflow:Saving model, after step 7200\n",
      "INFO:tensorflow:epoch/step: 13/7201, loss: 203.448, recons_loss: 0.168053, id_loss: 203.28\n",
      "INFO:tensorflow:epoch/step: 13/7301, loss: 230.045, recons_loss: 0.17673, id_loss: 229.869\n",
      "INFO:tensorflow:Saving model, after step 7400\n",
      "INFO:tensorflow:epoch/step: 13/7401, loss: 245.107, recons_loss: 0.166767, id_loss: 244.94\n",
      "INFO:tensorflow:epoch/step: 13/7501, loss: 205.408, recons_loss: 0.184775, id_loss: 205.224\n",
      "INFO:tensorflow:Saving model, after step 7600\n",
      "INFO:tensorflow:epoch/step: 13/7601, loss: 172.319, recons_loss: 0.170814, id_loss: 172.148\n",
      "INFO:tensorflow:epoch/step: 13/7701, loss: 233.971, recons_loss: 0.179796, id_loss: 233.791\n",
      "INFO:tensorflow:TESTING -- epoch: 14, loss: 119681.0, recons_loss: 0.343831, id_loss: 119680.0\n",
      "INFO:tensorflow:Best model saved after 14 epochs\n",
      "INFO:tensorflow:Saving model, after step 7800\n",
      "INFO:tensorflow:epoch/step: 14/7801, loss: 257.717, recons_loss: 0.197129, id_loss: 257.52\n",
      "INFO:tensorflow:epoch/step: 14/7901, loss: 155.683, recons_loss: 0.181484, id_loss: 155.501\n",
      "INFO:tensorflow:Saving model, after step 8000\n",
      "INFO:tensorflow:epoch/step: 14/8001, loss: 269.603, recons_loss: 0.176895, id_loss: 269.426\n",
      "INFO:tensorflow:epoch/step: 14/8101, loss: 143.632, recons_loss: 0.167372, id_loss: 143.464\n",
      "INFO:tensorflow:Saving model, after step 8200\n",
      "INFO:tensorflow:epoch/step: 14/8201, loss: 376.805, recons_loss: 0.189068, id_loss: 376.616\n",
      "INFO:tensorflow:TESTING -- epoch: 15, loss: 118374.0, recons_loss: 0.359957, id_loss: 118374.0\n",
      "INFO:tensorflow:Best model saved after 15 epochs\n",
      "INFO:tensorflow:epoch/step: 15/8301, loss: 190.367, recons_loss: 0.181745, id_loss: 190.185\n",
      "INFO:tensorflow:Saving model, after step 8400\n",
      "INFO:tensorflow:epoch/step: 15/8401, loss: 174.685, recons_loss: 0.182986, id_loss: 174.502\n",
      "INFO:tensorflow:epoch/step: 15/8501, loss: 166.526, recons_loss: 0.167689, id_loss: 166.358\n",
      "INFO:tensorflow:Saving model, after step 8600\n",
      "INFO:tensorflow:epoch/step: 15/8601, loss: 348.674, recons_loss: 0.184907, id_loss: 348.489\n",
      "INFO:tensorflow:epoch/step: 15/8701, loss: 82.953, recons_loss: 0.169955, id_loss: 82.7831\n",
      "INFO:tensorflow:Saving model, after step 8800\n",
      "INFO:tensorflow:epoch/step: 15/8801, loss: 144.628, recons_loss: 0.176729, id_loss: 144.451\n",
      "INFO:tensorflow:TESTING -- epoch: 16, loss: 104566.0, recons_loss: 0.384129, id_loss: 104566.0\n",
      "INFO:tensorflow:Best model saved after 16 epochs\n",
      "INFO:tensorflow:epoch/step: 16/8901, loss: 325.688, recons_loss: 0.188054, id_loss: 325.5\n",
      "INFO:tensorflow:Saving model, after step 9000\n",
      "INFO:tensorflow:epoch/step: 16/9001, loss: 396.415, recons_loss: 0.179073, id_loss: 396.236\n",
      "INFO:tensorflow:epoch/step: 16/9101, loss: 356.026, recons_loss: 0.180904, id_loss: 355.845\n",
      "INFO:tensorflow:Saving model, after step 9200\n",
      "INFO:tensorflow:epoch/step: 16/9201, loss: 221.203, recons_loss: 0.186145, id_loss: 221.017\n",
      "INFO:tensorflow:epoch/step: 16/9301, loss: 166.404, recons_loss: 0.170823, id_loss: 166.234\n",
      "INFO:tensorflow:TESTING -- epoch: 17, loss: 108070.0, recons_loss: 0.393338, id_loss: 108070.0\n",
      "INFO:tensorflow:Saving model, after step 9400\n",
      "INFO:tensorflow:epoch/step: 17/9401, loss: 151.948, recons_loss: 0.171899, id_loss: 151.776\n",
      "INFO:tensorflow:epoch/step: 17/9501, loss: 342.457, recons_loss: 0.171986, id_loss: 342.285\n",
      "INFO:tensorflow:Saving model, after step 9600\n",
      "INFO:tensorflow:epoch/step: 17/9601, loss: 82.379, recons_loss: 0.175279, id_loss: 82.2038\n",
      "INFO:tensorflow:epoch/step: 17/9701, loss: 76.8236, recons_loss: 0.177832, id_loss: 76.6457\n",
      "INFO:tensorflow:Saving model, after step 9800\n",
      "INFO:tensorflow:epoch/step: 17/9801, loss: 125.338, recons_loss: 0.181745, id_loss: 125.156\n",
      "INFO:tensorflow:epoch/step: 17/9901, loss: 233.376, recons_loss: 0.191787, id_loss: 233.184\n",
      "INFO:tensorflow:TESTING -- epoch: 18, loss: 98695.2, recons_loss: 0.377596, id_loss: 98694.8\n",
      "INFO:tensorflow:Best model saved after 18 epochs\n",
      "INFO:tensorflow:Saving model, after step 10000\n",
      "INFO:tensorflow:epoch/step: 18/10001, loss: 300.732, recons_loss: 0.179209, id_loss: 300.553\n",
      "INFO:tensorflow:epoch/step: 18/10101, loss: 223.736, recons_loss: 0.192332, id_loss: 223.544\n",
      "INFO:tensorflow:Saving model, after step 10200\n",
      "INFO:tensorflow:epoch/step: 18/10201, loss: 438.03, recons_loss: 0.177101, id_loss: 437.853\n",
      "INFO:tensorflow:epoch/step: 18/10301, loss: 126.012, recons_loss: 0.178719, id_loss: 125.833\n",
      "INFO:tensorflow:Saving model, after step 10400\n",
      "INFO:tensorflow:epoch/step: 18/10401, loss: 347.757, recons_loss: 0.168206, id_loss: 347.589\n",
      "INFO:tensorflow:TESTING -- epoch: 19, loss: 102000.0, recons_loss: 0.392439, id_loss: 102000.0\n",
      "INFO:tensorflow:epoch/step: 19/10501, loss: 293.704, recons_loss: 0.173127, id_loss: 293.531\n",
      "INFO:tensorflow:Saving model, after step 10600\n",
      "INFO:tensorflow:epoch/step: 19/10601, loss: 180.061, recons_loss: 0.17109, id_loss: 179.89\n",
      "INFO:tensorflow:epoch/step: 19/10701, loss: 182.18, recons_loss: 0.175747, id_loss: 182.005\n",
      "INFO:tensorflow:Saving model, after step 10800\n",
      "INFO:tensorflow:epoch/step: 19/10801, loss: 487.52, recons_loss: 0.185667, id_loss: 487.334\n",
      "INFO:tensorflow:epoch/step: 19/10901, loss: 358.35, recons_loss: 0.176379, id_loss: 358.173\n",
      "INFO:tensorflow:Saving model, after step 11000\n",
      "INFO:tensorflow:Trained for 19 epochs\n",
      "Saved all run data to: ./saucie_models/mnist/17-09-25-runs/0\n"
     ]
    },
    {
     "data": {
      "text/plain": [
       "OrderedDict([('loss', 102000.5),\n",
       "             ('recons_loss', 0.39243916),\n",
       "             ('id_loss', 102000.11)])"
      ]
     },
     "execution_count": 5,
     "metadata": {},
     "output_type": "execute_result"
    }
   ],
   "source": [
    "if verbose:\n",
    "    tf.logging.set_verbosity(tf.logging.DEBUG)\n",
    "else:\n",
    "    tf.logging.set_verbosity(tf.logging.INFO)\n",
    "if debug:\n",
    "    sess = tf_debug.LocalCLIDebugWrapperSession(sess)\n",
    "    sess.add_tensor_filter('has_inf_or_nan', tf_debug.has_inf_or_nan)\n",
    "\n",
    "gpu_options = tf.GPUOptions(per_process_gpu_memory_fraction=gpu_mem)\n",
    "sess = tf.InteractiveSession(config=tf.ConfigProto(gpu_options=gpu_options))\n",
    "model.build(sess)\n",
    "\n",
    "steps_per_epoch = data.num_samples // batch_size\n",
    "num_steps = steps_per_epoch * num_epochs\n",
    "train(model, sess, data, batch_size, num_steps, thresh, patience, log_every, save_every, save_plots)"
   ]
  },
  {
   "cell_type": "code",
   "execution_count": 19,
   "metadata": {},
   "outputs": [
    {
     "name": "stdout",
     "output_type": "stream",
     "text": [
      "Unique binary clusters: 16\n"
     ]
    }
   ],
   "source": [
    "# plot\n",
    "plot_folder = model.save_path + '/plots'\n",
    "\n",
    "if not os.path.exists(plot_folder):\n",
    "    os.makedirs(plot_folder)\n",
    "save_file = plot_folder + '/embedding.png'\n",
    "\n",
    "plot_ops = OrderedDict(emb=model.encoder)\n",
    "plot_ops['cluster_acts'] = tf.get_collection('id_normalized_activations')\n",
    "\n",
    "subs = np.random.choice(np.arange(len(data.data)), 5000, replace=False)\n",
    "test_feed_dict = {model.x_: data.data[subs,:],\n",
    "                  model.is_training_: False}\n",
    "\n",
    "plot_dict = sess.run(plot_ops, feed_dict=test_feed_dict)\n",
    "\n",
    "acts = plot_dict['cluster_acts'][0]\n",
    "clusts = utils.binarize(acts, thresh)\n",
    "plotting.plot_embedding2D(plot_dict['emb'], clusts, save_file, 'Bottleneck layer embedding')"
   ]
  },
  {
   "cell_type": "code",
   "execution_count": 7,
   "metadata": {},
   "outputs": [],
   "source": [
    "# get embedding\n",
    "embedding = sess.run(model.encoder, feed_dict=test_feed_dict)"
   ]
  },
  {
   "cell_type": "code",
   "execution_count": 8,
   "metadata": {},
   "outputs": [
    {
     "data": {
      "text/plain": [
       "array([[ 4.17510939, -7.40104818],\n",
       "       [ 5.56869507,  1.65658391],\n",
       "       [ 5.89348507, -3.94513774],\n",
       "       ..., \n",
       "       [ 4.91571236, -6.03218269],\n",
       "       [ 4.48567772, -6.51861906],\n",
       "       [ 4.87222099, -6.59232092]], dtype=float32)"
      ]
     },
     "execution_count": 8,
     "metadata": {},
     "output_type": "execute_result"
    }
   ],
   "source": [
    "embedding"
   ]
  },
  {
   "cell_type": "code",
   "execution_count": 21,
   "metadata": {},
   "outputs": [
    {
     "name": "stdout",
     "output_type": "stream",
     "text": [
      "Unique binary clusters: 16\n"
     ]
    },
    {
     "data": {
      "image/png": "[encoded data removed]",
      "text/plain": [
       "<matplotlib.figure.Figure at 0x7f570c406898>"
      ]
     },
     "metadata": {},
     "output_type": "display_data"
    }
   ],
   "source": [
    "# plot embedding\n",
    "acts = plot_dict['cluster_acts'][0]\n",
    "clusts = utils.binarize(acts, thresh)\n",
    "\n",
    "fig = plt.figure(figsize=(6, 5))\n",
    "ax = fig.add_subplot(111)\n",
    "plt.setp(ax, xticks=[], yticks=[])\n",
    "ax.scatter(embedding[:,0], embedding[:,1], s=10, c=clusts, cmap=\"Paired\")\n",
    "ax.set_xlabel(\"Embedding 1\")\n",
    "ax.set_ylabel(\"Embedding 2\")\n",
    "ax.set_title(\"Embedding\")\n",
    "plt.show()"
   ]
  },
  {
   "cell_type": "code",
   "execution_count": 17,
   "metadata": {},
   "outputs": [
    {
     "data": {
      "text/plain": [
       "array([[ 0.,  0.,  0., ...,  1.,  0.,  0.],\n",
       "       [ 0.,  0.,  1., ...,  0.,  0.,  0.],\n",
       "       [ 0.,  1.,  0., ...,  0.,  0.,  0.],\n",
       "       ..., \n",
       "       [ 0.,  0.,  0., ...,  0.,  0.,  0.],\n",
       "       [ 0.,  0.,  0., ...,  0.,  0.,  0.],\n",
       "       [ 0.,  0.,  0., ...,  0.,  0.,  0.]])"
      ]
     },
     "execution_count": 17,
     "metadata": {},
     "output_type": "execute_result"
    }
   ],
   "source": [
    "data._test_labels."
   ]
  },
  {
   "cell_type": "code",
   "execution_count": null,
   "metadata": {},
   "outputs": [],
   "source": []
  }
 ],
 "metadata": {
  "kernelspec": {
   "display_name": "Python 3",
   "language": "python",
   "name": "python3"
  },
  "language_info": {
   "codemirror_mode": {
    "name": "ipython",
    "version": 3
   },
   "file_extension": ".py",
   "mimetype": "text/x-python",
   "name": "python",
   "nbconvert_exporter": "python",
   "pygments_lexer": "ipython3",
   "version": "3.6.2"
  },
  "toc": {
   "colors": {
    "hover_highlight": "#DAA520",
    "navigate_num": "#000000",
    "navigate_text": "#333333",
    "running_highlight": "#FF0000",
    "selected_highlight": "#FFD700",
    "sidebar_border": "#EEEEEE",
    "wrapper_background": "#FFFFFF"
   },
   "moveMenuLeft": true,
   "navigate_menu": false,
   "number_sections": false,
   "sideBar": true,
   "threshold": 4,
   "toc_cell": false,
   "toc_section_display": "block",
   "toc_window_display": true,
   "widenNotebook": false
  }
 },
 "nbformat": 4,
 "nbformat_minor": 2
}
