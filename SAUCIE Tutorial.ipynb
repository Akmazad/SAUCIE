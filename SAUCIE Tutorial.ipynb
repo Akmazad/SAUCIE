{
 "cells": [
  {
   "cell_type": "markdown",
   "metadata": {},
   "source": [
    "# SAUCIE\n",
    "*Sparse Autoencoders for Unsupervised Clustering, Imputation, and Embedding*"
   ]
  },
  {
   "cell_type": "code",
   "execution_count": 1,
   "metadata": {
    "collapsed": true
   },
   "outputs": [],
   "source": [
    "%matplotlib inline\n",
    "\n",
    "import glob\n",
    "import numpy as np\n",
    "import pandas as pd\n",
    "import os\n",
    "import plotting\n",
    "import tensorflow as tf\n",
    "import matplotlib.pyplot as plt\n",
    "import saucie\n",
    "import saucie_utils as utils\n",
    "\n",
    "from collections import OrderedDict\n",
    "from saucie import Saucie\n",
    "from tensorflow.python import debug as tf_debug\n",
    "from saucie_utils import DataSet\n",
    "\n",
    "from run import train"
   ]
  },
  {
   "cell_type": "markdown",
   "metadata": {},
   "source": [
    "## Model Config"
   ]
  },
  {
   "cell_type": "code",
   "execution_count": 2,
   "metadata": {},
   "outputs": [
    {
     "name": "stderr",
     "output_type": "stream",
     "text": [
      "/home/krishnan/.local/lib/python3.6/site-packages/sklearn/model_selection/_split.py:2010: FutureWarning: From version 0.21, test_size will always complement train_size unless both are specified.\n",
      "  FutureWarning)\n"
     ]
    },
    {
     "name": "stdout",
     "output_type": "stream",
     "text": [
      "Fitting PCA on data with shape: (6770, 28910), may take awhile\n",
      "Done fitting PCA\n"
     ]
    }
   ],
   "source": [
    "data_path = '/data/krishnan/emt_data/data_raw.mat'\n",
    "dataset = 'emt_rnaseq'\n",
    "data = utils.load_dataset(dataset, data_path, colnames='/data/krishnan/emt_data/genes.csv')"
   ]
  },
  {
   "cell_type": "code",
   "execution_count": null,
   "metadata": {
    "collapsed": true
   },
   "outputs": [],
   "source": [
    "data_path = '/data/krishnan/emt_data/data_raw.npz'\n",
    "dataset = 'emt_rnaseq'\n",
    "data = utils.load_dataset(dataset, data_path)\n",
    "# config_path = 'saucie_models/zika/17-09-26-runs/0/model.config'\n",
    "# model, config = saucie.load_model_from_config(dataset, config_path)\n",
    "config = saucie.default_config(dataset)"
   ]
  },
  {
   "cell_type": "code",
   "execution_count": 4,
   "metadata": {
    "collapsed": true
   },
   "outputs": [],
   "source": [
    "# config['encoder_layers'] = [20,20]\n",
    "config['act_fn'] = 'relu'\n",
    "config['d_act_fn'] = 'relu'\n",
    "config['emb_dim'] = 10\n",
    "config['sparse_config'] = utils.SparseLayerConfig(l2_w_lam=np.array([1e-4,1e-4,1e-4],dtype=utils.FLOAT_DTYPE))"
   ]
  },
  {
   "cell_type": "code",
   "execution_count": 5,
   "metadata": {},
   "outputs": [
    {
     "name": "stdout",
     "output_type": "stream",
     "text": [
      "('input_dim', 20)\n",
      "('encoder_layers', [1024, 512, 256])\n",
      "('emb_dim', 10)\n",
      "('act_fn', 'relu')\n",
      "('d_act_fn', 'relu')\n",
      "('use_bias', True)\n",
      "('loss_fn', 'bce')\n",
      "('opt_method', 'adam')\n",
      "('lr', 0.001)\n",
      "('batch_norm', True)\n",
      "('sparse_config', SparseLayerConfig(id_lam=[0.0, 0.0, 0.0],l1_lam=[0.0, 0.0, 0.0],l1_w_lam=[0.0, 0.0, 0.0],l2_w_lam=[9.999999747378752e-05, 9.999999747378752e-05, 9.999999747378752e-05],l1_b_lam=[0.0, 0.0, 0.0],l2_b_lam=[0.0, 0.0, 0.0]))\n",
      "('save_path', './saucie_models/emt_rnaseq')\n"
     ]
    }
   ],
   "source": [
    "print('\\n'.join([str(x) for x in config.items()]))"
   ]
  },
  {
   "cell_type": "markdown",
   "metadata": {},
   "source": [
    "## Training Config"
   ]
  },
  {
   "cell_type": "code",
   "execution_count": 6,
   "metadata": {
    "collapsed": true
   },
   "outputs": [],
   "source": [
    "# TRAINING FLAGS\n",
    "batch_size = 200     # size of batch during training\n",
    "num_epochs = 70      # number of epochs to train\n",
    "patience = 5         # number of epochs to train without improvement, early stopping\n",
    "log_every = 5      # training loss logging frequency\n",
    "save_every = 20     # checkpointing frequency\n",
    "tb_graph = True      # logs graph to TensorBoard if True\n",
    "tb_summs = True      # logs summaries to TensorBoard if True\n",
    "debug = False        # enable tfdebug\n",
    "verbose = False      # will log in debug mode if True\n",
    "gpu_mem = 0.45       # percent of gpu mem to allocate\n",
    "\n",
    "# PLOTTING FLAGS\n",
    "thresh = .5          # threshold to binarize id regularized layers\n",
    "save_plots = False    # saves plots if True"
   ]
  },
  {
   "cell_type": "markdown",
   "metadata": {},
   "source": [
    "## Run Training"
   ]
  },
  {
   "cell_type": "code",
   "execution_count": 44,
   "metadata": {
    "collapsed": true
   },
   "outputs": [],
   "source": [
    "sess.close()\n",
    "tf.reset_default_graph()"
   ]
  },
  {
   "cell_type": "code",
   "execution_count": 7,
   "metadata": {
    "collapsed": true,
    "scrolled": true
   },
   "outputs": [],
   "source": [
    "if verbose:\n",
    "    tf.logging.set_verbosity(tf.logging.DEBUG)\n",
    "else:\n",
    "    tf.logging.set_verbosity(tf.logging.INFO)\n",
    "if debug:\n",
    "    sess = tf_debug.LocalCLIDebugWrapperSession(sess)\n",
    "    sess.add_tensor_filter('has_inf_or_nan', tf_debug.has_inf_or_nan)\n",
    "\n",
    "model = Saucie(**config)\n",
    "plot_dir = model.save_path + '/plots'\n",
    "gpu_options = tf.GPUOptions(per_process_gpu_memory_fraction=gpu_mem)\n",
    "sess = tf.InteractiveSession(config=tf.ConfigProto(gpu_options=gpu_options))\n",
    "model.build(sess)"
   ]
  },
  {
   "cell_type": "code",
   "execution_count": 9,
   "metadata": {
    "collapsed": true
   },
   "outputs": [],
   "source": [
    "from sklearn.decomposition import PCA"
   ]
  },
  {
   "cell_type": "code",
   "execution_count": 13,
   "metadata": {},
   "outputs": [
    {
     "data": {
      "text/plain": [
       "<matplotlib.collections.PathCollection at 0x7f5608191710>"
      ]
     },
     "execution_count": 13,
     "metadata": {},
     "output_type": "execute_result"
    },
    {
     "name": "stderr",
     "output_type": "stream",
     "text": [
      "/usr/lib/python3.6/site-packages/matplotlib/font_manager.py:1297: UserWarning: findfont: Font family ['sans-serif'] not found. Falling back to DejaVu Sans\n",
      "  (prop.get_family(), self.defaultFamily[fontext]))\n"
     ]
    },
    {
     "data": {
      "image/png": "[encoded data removed]",
      "text/plain": [
       "<matplotlib.figure.Figure at 0x7f563cea0e10>"
      ]
     },
     "metadata": {},
     "output_type": "display_data"
    }
   ],
   "source": [
    "emb = sess.run(model.encoder, feed_dict={model.x_: data.data[:batch_size], model.is_training_: False})\n",
    "\n",
    "pca = PCA(2)\n",
    "emb_2d = pca.fit_transform(emb)\n",
    "plt.scatter(emb_2d[:,0],emb_2d[:,1])"
   ]
  },
  {
   "cell_type": "code",
   "execution_count": null,
   "metadata": {
    "collapsed": true
   },
   "outputs": [],
   "source": [
    "plot_folder = model.save_path + '/plots'\n",
    "\n",
    "if not os.path.exists(plot_folder):\n",
    "    os.makedirs(plot_folder)\n",
    "save_file = plot_folder + '/embedding.png'\n",
    "\n",
    "plot_ops = OrderedDict(emb=model.encoder)\n",
    "plot_ops['cluster_acts'] = tf.get_collection('id_normalized_activations')\n",
    "\n",
    "subs = np.random.choice(np.arange(len(data.data)), 5000, replace=False)\n",
    "test_feed_dict = {model.x_: data.data[subs,:],\n",
    "                  model.is_training_: False}\n",
    "\n",
    "plot_dict = sess.run(plot_ops, feed_dict=test_feed_dict)\n",
    "\n",
    "acts = plot_dict['cluster_acts'][0]\n",
    "clusts = utils.binarize(acts, thresh)\n",
    "plotting.plot_embedding2D(plot_dict['emb'], clusts, save_file, 'Bottleneck layer embedding')"
   ]
  }
 ],
 "metadata": {
  "kernelspec": {
   "display_name": "Python 3",
   "language": "python",
   "name": "python3"
  },
  "language_info": {
   "codemirror_mode": {
    "name": "ipython",
    "version": 3
   },
   "file_extension": ".py",
   "mimetype": "text/x-python",
   "name": "python",
   "nbconvert_exporter": "python",
   "pygments_lexer": "ipython3",
   "version": "3.6.2"
  },
  "toc": {
   "colors": {
    "hover_highlight": "#DAA520",
    "navigate_num": "#000000",
    "navigate_text": "#333333",
    "running_highlight": "#FF0000",
    "selected_highlight": "#FFD700",
    "sidebar_border": "#EEEEEE",
    "wrapper_background": "#FFFFFF"
   },
   "moveMenuLeft": true,
   "navigate_menu": false,
   "number_sections": false,
   "sideBar": true,
   "threshold": 4,
   "toc_cell": false,
   "toc_section_display": "block",
   "toc_window_display": true,
   "widenNotebook": false
  }
 },
 "nbformat": 4,
 "nbformat_minor": 2
}
